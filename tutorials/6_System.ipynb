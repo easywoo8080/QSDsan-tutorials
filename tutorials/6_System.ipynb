{
 "cells": [
  {
   "cell_type": "markdown",
   "metadata": {},
   "source": [
    "# `System` <a class=\"anchor\" id=\"top\"></a>\n",
    "\n",
    "* **Prepared by:**\n",
    "    \n",
    "    - [Yalin Li](https://qsdsan.readthedocs.io/en/latest/CONTRIBUTING.html)\n",
    "\n",
    "* **Covered topics:**\n",
    "\n",
    "    - [1. Creating a simple System](#s1)\n",
    "    - [2. Retrieving useful information](#s2)\n",
    "\n",
    "- **Video demo:**\n",
    "\n",
    "    - [Tori Morgan](https://qsdsan.readthedocs.io/en/latest/CONTRIBUTING.html)\n",
    "\n",
    "To run tutorials in your browser, go to this [Binder page](https://mybinder.org/v2/gh/QSD-Group/QSDsan-env/main?urlpath=git-pull%3Frepo%3Dhttps%253A%252F%252Fgithub.com%252FQSD-group%252FQSDsan%26urlpath%3Dtree%252FQSDsan%252Fdocs%252Fsource%252Ftutorials%26branch%3Dmain).\n",
    "\n",
    "You can also watch a video demo on [YouTube](https://youtu.be/iIx28JkNjQ8) (subscriptions & likes appreciated!)."
   ]
  },
  {
   "cell_type": "code",
   "execution_count": 1,
   "metadata": {},
   "outputs": [
    {
     "name": "stdout",
     "output_type": "stream",
     "text": [
      "This tutorial was made with qsdsan v1.2.0.\n"
     ]
    }
   ],
   "source": [
    "import qsdsan as qs\n",
    "print(f'This tutorial was made with qsdsan v{qs.__version__}.')"
   ]
  },
  {
   "cell_type": "markdown",
   "metadata": {},
   "source": [
    "**Note**: although for most of the tutorials the version of `qsdsan` doesn't matter, for this tutorial you do want to use v0.3.7 or higher, which addressed some of the bugs in previous versions of `qsdsan` and `biosteam`."
   ]
  },
  {
   "cell_type": "markdown",
   "metadata": {},
   "source": [
    "## 1. Creating a simple System <a class=\"anchor\" id=\"s1\"></a>"
   ]
  },
  {
   "cell_type": "markdown",
   "metadata": {},
   "source": [
    "`System` objects are used to organize one or more unit operations in a certain order and facilitate mass and energy convergence, techno-economic analysis (TEA), and life cycle assessment (LCA)."
   ]
  },
  {
   "cell_type": "code",
   "execution_count": 2,
   "metadata": {},
   "outputs": [
    {
     "data": {
      "text/html": [
       "<img src=\"https://www.researchgate.net/profile/Ramon-Vilanova/publication/301305911/figure/fig1/AS:352977123594240@1461167712833/Benchmark-Simulation-Model-No-1-BSM1-plant-layout.png\"/>"
      ],
      "text/plain": [
       "<IPython.core.display.Image object>"
      ]
     },
     "execution_count": 2,
     "metadata": {},
     "output_type": "execute_result"
    }
   ],
   "source": [
    "# Assume we want to look at the system in used in benchmark simulation model No.1,\n",
    "# which looks like this\n",
    "from IPython.display import Image\n",
    "Image(url= \"https://www.researchgate.net/profile/Ramon-Vilanova/publication/301305911/figure/fig1/AS:352977123594240@1461167712833/Benchmark-Simulation-Model-No-1-BSM1-plant-layout.png\")"
   ]
  },
  {
   "cell_type": "markdown",
   "metadata": {},
   "source": [
    "At this stage we won't include any of the process models (will be covered later in other tutorials), we will just use some surogate units to represent it\n",
    "\n",
    "So we'll want to firstly have two anoxic reactors (mix tanks without O2), followed by three aerated reactors (mix tanks with O2), and a clarifier (splitter)\n",
    "\n",
    "Note that we will have will also need two recycles, one from the last aerated reactor to the first anoxic reactor, and another one from the clarifer to the anoxic reactor"
   ]
  },
  {
   "cell_type": "code",
   "execution_count": 3,
   "metadata": {},
   "outputs": [],
   "source": [
    "# As always, firstly we need to set the components we want to work with,\n",
    "# here we will just load the default components\n",
    "cmps = qs.Components.load_default()"
   ]
  },
  {
   "cell_type": "code",
   "execution_count": 4,
   "metadata": {},
   "outputs": [
    {
     "name": "stdout",
     "output_type": "stream",
     "text": [
      "CompiledComponents([S_H2, S_CH4, S_CH3OH, S_Ac, S_Prop, S_F, S_U_Inf, S_U_E, C_B_Subst, C_B_BAP, C_B_UAP, C_U_Inf, X_B_Subst, X_OHO_PHA, X_GAO_PHA, X_PAO_PHA, X_GAO_Gly, X_PAO_Gly, X_OHO, X_AOO, X_NOO, X_AMO, X_PAO, X_MEOLO, X_FO, X_ACO, X_HMO, X_PRO, X_U_Inf, X_U_OHO_E, X_U_PAO_E, X_Ig_ISS, X_MgCO3, X_CaCO3, X_MAP, X_HAP, X_HDP, X_FePO4, X_AlPO4, X_AlOH, X_FeOH, X_PAO_PP_Lo, X_PAO_PP_Hi, S_NH4, S_NO2, S_NO3, S_PO4, S_K, S_Ca, S_Mg, S_CO3, S_N2, S_O2, S_CAT, S_AN, H2O])\n"
     ]
    }
   ],
   "source": [
    "# Take a look at what we have\n",
    "cmps"
   ]
  },
  {
   "cell_type": "code",
   "execution_count": 5,
   "metadata": {
    "scrolled": true
   },
   "outputs": [
    {
     "data": {
      "text/plain": [
       "True"
      ]
     },
     "execution_count": 5,
     "metadata": {},
     "output_type": "execute_result"
    }
   ],
   "source": [
    "# Just a refresher on how to set synonym\n",
    "cmps.set_alias('H2O', 'Water')\n",
    "cmps.H2O == cmps.Water"
   ]
  },
  {
   "cell_type": "code",
   "execution_count": 6,
   "metadata": {},
   "outputs": [],
   "source": [
    "# Set the components\n",
    "qs.set_thermo(cmps)"
   ]
  },
  {
   "cell_type": "code",
   "execution_count": 7,
   "metadata": {},
   "outputs": [
    {
     "name": "stdout",
     "output_type": "stream",
     "text": [
      "WasteStream: ww\n",
      " phase: 'l', T: 298.15 K, P: 101325 Pa\n",
      " flow (g/hr): S_F        75\n",
      "              S_U_Inf    32.5\n",
      "              C_B_Subst  40\n",
      "              X_B_Subst  227\n",
      "              X_U_Inf    55.8\n",
      "              X_Ig_ISS   52.3\n",
      "              S_NH4      25\n",
      "              S_PO4      8\n",
      "              S_K        28\n",
      "              S_Ca       140\n",
      "              S_Mg       50\n",
      "              S_CO3      120\n",
      "              S_N2       18\n",
      "              S_CAT      3\n",
      "              S_AN       12\n",
      "              ...\n",
      " WasteStream-specific properties:\n",
      "  pH         : 7.0\n",
      "  Alkalinity : 10.0 mg/L\n",
      "  COD        : 430.0 mg/L\n",
      "  BOD        : 249.4 mg/L\n",
      "  TC         : 265.0 mg/L\n",
      "  TOC        : 137.6 mg/L\n",
      "  TN         : 40.0 mg/L\n",
      "  TP         : 10.0 mg/L\n",
      "  TK         : 28.0 mg/L\n",
      " Component concentrations (mg/L):\n",
      "  S_F          75.0\n",
      "  S_U_Inf      32.5\n",
      "  C_B_Subst    40.0\n",
      "  X_B_Subst    226.7\n",
      "  X_U_Inf      55.8\n",
      "  X_Ig_ISS     52.3\n",
      "  S_NH4        25.0\n",
      "  S_PO4        8.0\n",
      "  S_K          28.0\n",
      "  S_Ca         140.0\n",
      "  S_Mg         50.0\n",
      "  S_CO3        120.0\n",
      "  S_N2         18.0\n",
      "  S_CAT        3.0\n",
      "  S_AN         12.0\n",
      "  ...\n"
     ]
    }
   ],
   "source": [
    "# Make an influent waste stream\n",
    "ww = qs.WasteStream.codbased_inf_model('ww', flow_tot=1000, units=('L/hr', 'mg/L'))\n",
    "ww.show()"
   ]
  },
  {
   "cell_type": "code",
   "execution_count": 8,
   "metadata": {},
   "outputs": [],
   "source": [
    "# Make the first two anoxic reactors\n",
    "A1 = qs.sanunits.MixTank('A1', ins=(ww, 'recycle1', 'recycle2'),\n",
    "                                    tau=1, V_wf=0.8, init_with='WasteStream')\n",
    "A2 = qs.sanunits.MixTank('A2', ins=A1-0, tau=1, V_wf=0.8, init_with='WasteStream')"
   ]
  },
  {
   "cell_type": "markdown",
   "metadata": {},
   "source": [
    "Note that for `A1`, we saved two spots for recycles by just giving them the IDs of \"`recycle1`\" and \"`recycle2`\", we will connect them to the corresponding units after we create them later."
   ]
  },
  {
   "cell_type": "markdown",
   "metadata": {},
   "source": [
    "Additionally, when creating `A2`, we indicated that the `ins=A1-0`, the expression with hyphen `-` is called \"[-pipe-notation](https://biosteam.readthedocs.io/en/latest/tutorial/-pipe-_notation.html)\", briefly (`U1`, `U2`, and `U3` are just units):\n",
    "\n",
    "- `U1-0` is equivalent to `U1.outs[0]`\n",
    "- `0-U1` is equivalent to `U1.ins[0]`\n",
    "- `U1-0-1-U2` is equivalent to `U2.ins[1] = U1.outs[0]`\n",
    "\n",
    "    - Note that `U1-0-1-U2` is not equivalent to `U2-1-0-U1`, which means `U1.outs[0] = U2.ins[1]` (like `a = b`, which gives the value of `b` to `a`, is not the same as `b = a`, which gives the value of `a` to `b`)\n",
    "    - If `U1` just has one effluent and `U2` just have one influent, we can use `U1-U2`\n",
    "\n",
    "- This is applicable for multiple influents/effluents as well, e.g., `(U1-0, U3-0)-U2` is equivalent to `U2.ins[0] = U1.outs[0]` and `U2.ins[1] = U3.outs[0]`"
   ]
  },
  {
   "cell_type": "code",
   "execution_count": 9,
   "metadata": {},
   "outputs": [],
   "source": [
    "# Then have three O2 streams, assuming we are just pumping air\n",
    "# in case it's not already clear, I'm making up all the numbers\n",
    "oxy1 = qs.WasteStream('oxy1', S_O2=ww.F_mass*0.01)\n",
    "oxy1.imol['S_N2'] = oxy1.imol['S_O2']/0.21*0.79\n",
    "oxy2 = oxy1.copy('oxy2')\n",
    "oxy3 = oxy1.copy('oxy3')"
   ]
  },
  {
   "cell_type": "code",
   "execution_count": 10,
   "metadata": {},
   "outputs": [],
   "source": [
    "# Setting up the three aerated tanks\n",
    "O1 = qs.sanunits.MixTank('O1', ins=(A2-0, oxy1), tau=1, V_wf=0.8, init_with='WasteStream')\n",
    "O2 = qs.sanunits.MixTank('O2', ins=(O1-0, oxy2), tau=1, V_wf=0.8, init_with='WasteStream')\n",
    "O3 = qs.sanunits.MixTank('O3', ins=(O2-0, oxy3), tau=1, V_wf=0.8, init_with='WasteStream')"
   ]
  },
  {
   "cell_type": "code",
   "execution_count": 11,
   "metadata": {},
   "outputs": [],
   "source": [
    "# Now note that we need to set up a splitter after the last aerated tank,\n",
    "# to create the recycle stream\n",
    "S1 = qs.sanunits.Splitter('S1', ins=O3-0, outs=('', 1-A1), # `''` means we use default ID\n",
    "                          split=0.9, init_with='WasteStream')"
   ]
  },
  {
   "cell_type": "code",
   "execution_count": 12,
   "metadata": {},
   "outputs": [],
   "source": [
    "# Add in the clarifier, which is actually also a splitter\n",
    "# (if we ignore the part that splitter does not have costs),\n",
    "# since it's a clarifier, let's assume that 90% of the solubles\n",
    "# (including dissolved gas and colloidal) will\n",
    "# go to the liquid stream while 10% go to the sludge,\n",
    "# and all solids go to the sludge\n",
    "split_dct = {i.ID: 0.9 if i.particle_size != 'Particulate' else 0 for i in cmps }"
   ]
  },
  {
   "cell_type": "markdown",
   "metadata": {},
   "source": [
    "---\n",
    "### Tip\n",
    "After you become more familiar with Python, you'll enjoy using one-liners since it's much shorter (and can be faster). As in the case above when I set `split_dct`, it is equivalent to:\n",
    "\n",
    "```python\n",
    "split_dct = {}\n",
    "for i in cmps:\n",
    "    if i.particle_size == 'Particulate':\n",
    "        split_dct[i.ID] = 0\n",
    "    else:\n",
    "        split_dct[i.ID] = 1\n",
    "```"
   ]
  },
  {
   "cell_type": "markdown",
   "metadata": {},
   "source": [
    "---"
   ]
  },
  {
   "cell_type": "code",
   "execution_count": 13,
   "metadata": {},
   "outputs": [],
   "source": [
    "S2 = qs.sanunits.Splitter('S2', ins=S1-0, outs=('liquid_eff', 2-A1),\n",
    "                          split=split_dct, init_with='WasteStream')"
   ]
  },
  {
   "cell_type": "code",
   "execution_count": 14,
   "metadata": {},
   "outputs": [],
   "source": [
    "# It's time to create the system!\n",
    "# Since one system can only handle one recycle,\n",
    "# we need to make two systems\n",
    "import biosteam as bst\n",
    "internal_sys = bst.System('internal_sys',\n",
    "                          path=(A1, A2, O1, O2, O3, S1), # all units within this internal sys\n",
    "                          recycle=S1-1 # the recycle stream\n",
    "                         )"
   ]
  },
  {
   "cell_type": "code",
   "execution_count": 15,
   "metadata": {},
   "outputs": [],
   "source": [
    "# When creating the second system,\n",
    "# we can include the first one in the `path`\n",
    "external_sys = bst.System('external_sys',\n",
    "                          path=(internal_sys, S2),\n",
    "                          recycle=S2-1\n",
    "                         )"
   ]
  },
  {
   "cell_type": "code",
   "execution_count": 16,
   "metadata": {
    "scrolled": true
   },
   "outputs": [
    {
     "data": {
      "image/png": "[encoded data removed]",
      "text/plain": [
       "<IPython.core.display.Image object>"
      ]
     },
     "metadata": {},
     "output_type": "display_data"
    }
   ],
   "source": [
    "# Tada~! Let's take a look at the system\n",
    "external_sys.diagram()"
   ]
  },
  {
   "cell_type": "markdown",
   "metadata": {},
   "source": [
    "[Back to top](#top)"
   ]
  },
  {
   "cell_type": "markdown",
   "metadata": {},
   "source": [
    "## 2. Retrieving useful information <a class=\"anchor\" id=\"s2\"></a>\n",
    "Now that we have the system, we can retrieve information using the many attributes `System` has."
   ]
  },
  {
   "cell_type": "code",
   "execution_count": 17,
   "metadata": {},
   "outputs": [],
   "source": [
    "# Give it a shorthand since I'm lazy...\n",
    "sys = external_sys"
   ]
  },
  {
   "cell_type": "code",
   "execution_count": 18,
   "metadata": {},
   "outputs": [
    {
     "data": {
      "text/plain": [
       "[<MixTank: A1>,\n",
       " <MixTank: A2>,\n",
       " <MixTank: O1>,\n",
       " <MixTank: O2>,\n",
       " <MixTank: O3>,\n",
       " <Splitter: S1>,\n",
       " <Splitter: S2>]"
      ]
     },
     "execution_count": 18,
     "metadata": {},
     "output_type": "execute_result"
    }
   ],
   "source": [
    "# Firstly, if you want to look at what units are within the system\n",
    "sys.units"
   ]
  },
  {
   "cell_type": "code",
   "execution_count": 19,
   "metadata": {},
   "outputs": [
    {
     "data": {
      "text/plain": [
       "(<System: internal_sys>, <Splitter: S2>)"
      ]
     },
     "execution_count": 19,
     "metadata": {},
     "output_type": "execute_result"
    }
   ],
   "source": [
    "# Which is different from\n",
    "sys.path"
   ]
  },
  {
   "cell_type": "code",
   "execution_count": 20,
   "metadata": {},
   "outputs": [
    {
     "data": {
      "image/png": "[encoded data removed]",
      "text/plain": [
       "<IPython.core.display.Image object>"
      ]
     },
     "metadata": {},
     "output_type": "display_data"
    },
    {
     "name": "stdout",
     "output_type": "stream",
     "text": [
      "System: external_sys\n",
      "Highest convergence error among components in recycle\n",
      "stream S2-1 after 2 loops:\n",
      "- flow rate   6.03e-01 kmol/hr (48%)\n",
      "- temperature 0.00e+00 K (0%)\n",
      "ins...\n",
      "[0] ww\n",
      "    phase: 'l', T: 298.15 K, P: 101325 Pa\n",
      "    flow (kmol/hr): S_F        0.075\n",
      "                    S_U_Inf    0.0325\n",
      "                    C_B_Subst  0.04\n",
      "                    X_B_Subst  0.227\n",
      "                    X_U_Inf    0.0558\n",
      "                    X_Ig_ISS   0.0523\n",
      "                    S_NH4      0.00147\n",
      "                    ...\n",
      "[1] oxy1\n",
      "    phase: 'l', T: 298.15 K, P: 101325 Pa\n",
      "    flow (kmol/hr): S_N2  1.17\n",
      "                    S_O2  0.312\n",
      "[2] oxy2\n",
      "    phase: 'l', T: 298.15 K, P: 101325 Pa\n",
      "    flow (kmol/hr): S_N2  1.17\n",
      "                    S_O2  0.312\n",
      "[3] oxy3\n",
      "    phase: 'l', T: 298.15 K, P: 101325 Pa\n",
      "    flow (kmol/hr): S_N2  1.17\n",
      "                    S_O2  0.312\n",
      "outs...\n",
      "[0] liquid_eff\n",
      "    phase: 'l', T: 298.15 K, P: 101325 Pa\n",
      "    flow (kmol/hr): S_F        0.0734\n",
      "                    S_U_Inf    0.0319\n",
      "                    C_B_Subst  0.0392\n",
      "                    S_NH4      0.00144\n",
      "                    S_PO4      4.06e-05\n",
      "                    S_K        0.000701\n",
      "                    S_Ca       0.00342\n",
      "                    ...\n"
     ]
    }
   ],
   "source": [
    "# Similar to units, you need to first simulate the system\n",
    "# before you check out attributes that are not set up\n",
    "# upon initialization (e.g., units, recycles)\n",
    "sys.simulate()\n",
    "sys"
   ]
  },
  {
   "cell_type": "markdown",
   "metadata": {},
   "source": [
    "In the above printout, you'll are actually looking at the following attributes:\n",
    "- `sys.diagram('minimal')`\n",
    "- `sys._error_info()`\n",
    "- `sys.feeds`\n",
    "- `sys.products`"
   ]
  },
  {
   "cell_type": "code",
   "execution_count": 21,
   "metadata": {},
   "outputs": [
    {
     "name": "stdout",
     "output_type": "stream",
     "text": [
      "Purchase cost of the system equipment is 88771 USD.\n",
      "Installed cost of the system equipment is 146473 USD.\n"
     ]
    }
   ],
   "source": [
    "# Ones related to costs\n",
    "print(f'Purchase cost of the system equipment is {sys.purchase_cost:.0f} USD.')\n",
    "print(f'Installed cost of the system equipment is {sys.installed_equipment_cost:.0f} USD.')"
   ]
  },
  {
   "cell_type": "code",
   "execution_count": 22,
   "metadata": {},
   "outputs": [],
   "source": [
    "# If you set the operating hour of the system,\n",
    "# you can also see costs related to operation\n",
    "sys.operating_hours = 365*0.8"
   ]
  },
  {
   "cell_type": "code",
   "execution_count": 23,
   "metadata": {},
   "outputs": [
    {
     "name": "stdout",
     "output_type": "stream",
     "text": [
      "This system uses 259.21 kWh electricity per year.\n",
      "This system produces 0.00 kWh electricity per year.\n"
     ]
    }
   ],
   "source": [
    "# Electricity\n",
    "print(f'This system uses {sys.get_electricity_consumption():.2f} kWh electricity per year.')\n",
    "print(f'This system produces {sys.get_electricity_production():.2f} kWh electricity per year.')"
   ]
  },
  {
   "cell_type": "code",
   "execution_count": 24,
   "metadata": {},
   "outputs": [
    {
     "data": {
      "image/png": "[encoded data removed]",
      "text/plain": [
       "<IPython.core.display.Image object>"
      ]
     },
     "metadata": {},
     "output_type": "display_data"
    },
    {
     "name": "stdout",
     "output_type": "stream",
     "text": [
      "Cooling duty of the second system is 37635939.66 kJ per year.\n",
      "Heating duty of the second system is 33018236.42 kJ per year.\n"
     ]
    }
   ],
   "source": [
    "# And many others related to heating and cooling utilities,\n",
    "# since there is no use of heating/cooling duties in our system,\n",
    "# let's just add two new units to demonstrate it\n",
    "H1 = qs.sanunits.HXutility('H1', ins=sys-0, T=50+273.15)\n",
    "H2 = qs.sanunits.HXutility('H2', ins=H1-0, T=20+273.15)\n",
    "sys2 = bst.System('sys2', path=(sys, H1, H2))\n",
    "sys2.operating_hours = sys.operating_hours\n",
    "sys2.simulate()\n",
    "sys2.diagram()\n",
    "print(f'Cooling duty of the second system is {sys2.get_cooling_duty():.2f} kJ per year.')\n",
    "print(f'Heating duty of the second system is {sys2.get_heating_duty():.2f} kJ per year.')"
   ]
  },
  {
   "cell_type": "markdown",
   "metadata": {},
   "source": [
    "[Back to top](#top)"
   ]
  }
 ],
 "metadata": {
  "kernelspec": {
   "display_name": "Python 3 (ipykernel)",
   "language": "python",
   "name": "python3"
  },
  "language_info": {
   "codemirror_mode": {
    "name": "ipython",
    "version": 3
   },
   "file_extension": ".py",
   "mimetype": "text/x-python",
   "name": "python",
   "nbconvert_exporter": "python",
   "pygments_lexer": "ipython3",
   "version": "3.9.13"
  },
  "varInspector": {
   "cols": {
    "lenName": 16,
    "lenType": 16,
    "lenVar": 40
   },
   "kernels_config": {
    "python": {
     "delete_cmd_postfix": "",
     "delete_cmd_prefix": "del ",
     "library": "var_list.py",
     "varRefreshCmd": "print(var_dic_list())"
    },
    "r": {
     "delete_cmd_postfix": ") ",
     "delete_cmd_prefix": "rm(",
     "library": "var_list.r",
     "varRefreshCmd": "cat(var_dic_list()) "
    }
   },
   "types_to_exclude": [
    "module",
    "function",
    "builtin_function_or_method",
    "instance",
    "_Feature"
   ],
   "window_display": false
  }
 },
 "nbformat": 4,
 "nbformat_minor": 4
}
