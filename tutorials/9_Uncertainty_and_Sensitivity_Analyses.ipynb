{
 "cells": [
  {
   "cell_type": "markdown",
   "id": "72695384",
   "metadata": {},
   "source": [
    "# Uncertainty and Sensitivity Analyses <a class=\"anchor\" id=\"top\"></a>\n",
    "\n",
    "* **Prepared by:**\n",
    "\n",
    "    - [Yalin Li](https://qsdsan.readthedocs.io/en/latest/CONTRIBUTING.html)\n",
    "\n",
    "* **Covered topics:**\n",
    "\n",
    "    - [1. Model, Parameter, and Metric](#s1)\n",
    "    - [2. Perform Uncertainty and Sensitivity Analyses](#s2)\n",
    "    \n",
    "- **Video demo:**\n",
    "\n",
    "    - [Hannah Lohman](https://qsdsan.readthedocs.io/en/latest/CONTRIBUTING.html)\n",
    "\n",
    "To run tutorials in your browser, go to this [Binder page](https://mybinder.org/v2/gh/QSD-Group/QSDsan-env/main?urlpath=git-pull%3Frepo%3Dhttps%253A%252F%252Fgithub.com%252FQSD-group%252FQSDsan%26urlpath%3Dtree%252FQSDsan%252Fdocs%252Fsource%252Ftutorials%26branch%3Dmain).\n",
    "\n",
    "You can also watch a video demo on [YouTube](https://youtu.be/_pIfUEda2jc) (subscriptions & likes appreciated!)."
   ]
  },
  {
   "cell_type": "code",
   "execution_count": 1,
   "id": "10f22a45",
   "metadata": {},
   "outputs": [
    {
     "name": "stdout",
     "output_type": "stream",
     "text": [
      "This tutorial was made with qsdsan v1.2.0.\n"
     ]
    }
   ],
   "source": [
    "import qsdsan as qs\n",
    "print(f'This tutorial was made with qsdsan v{qs.__version__}.')"
   ]
  },
  {
   "cell_type": "markdown",
   "id": "2aae4f13",
   "metadata": {},
   "source": [
    "## 1. `Model`, `Parameter`, and `Metric` <a class=\"anchor\" id=\"s1\"></a>\n",
    "To perform uncertainty and sensitivity analyses, we firstly need to use the `Model` class to establish a system model and link it to the system we are interested in."
   ]
  },
  {
   "cell_type": "markdown",
   "id": "071eb251",
   "metadata": {},
   "source": [
    "### 1.1. Create a simple system with TEA and LCA\n",
    "Let's make a very simple system with a splitter, a heat exchanger, and a mixing tank"
   ]
  },
  {
   "cell_type": "code",
   "execution_count": 2,
   "id": "a277eee6",
   "metadata": {},
   "outputs": [],
   "source": [
    "from qsdsan import PowerUtility, Model # for prior v0.3.10, import from `biosteam`\n",
    "cmps = qs.Components.load_default()\n",
    "qs.set_thermo(cmps)\n",
    "ww1 = qs.WasteStream.codstates_inf_model('ww1', 1000)\n",
    "ww2 = qs.WasteStream.bodbased_inf_model('ww2', 100)"
   ]
  },
  {
   "cell_type": "code",
   "execution_count": 3,
   "id": "c3be03d1",
   "metadata": {
    "scrolled": false
   },
   "outputs": [
    {
     "data": {
      "image/png": "[encoded data removed]",
      "text/plain": [
       "<IPython.core.display.Image object>"
      ]
     },
     "metadata": {},
     "output_type": "display_data"
    }
   ],
   "source": [
    "su = qs.sanunits\n",
    "S1 = su.Splitter('S1', ins=ww1, outs=('to_HX', 'to_mixer'), split=0.2)\n",
    "H1 = su.HXutility('H1', ins=S1-0, T=273.15+50)\n",
    "M1 = su.MixTank('M1', ins=(S1-1, ww2), tau=2)\n",
    "sys = qs.System('sys', path=(S1, H1, M1))\n",
    "sys.simulate()\n",
    "sys.diagram()"
   ]
  },
  {
   "cell_type": "code",
   "execution_count": 4,
   "id": "5205defc",
   "metadata": {},
   "outputs": [],
   "source": [
    "# Add some stream costs for TEA\n",
    "ww1.price = ww2.price = 0.1\n",
    "tea = qs.SimpleTEA(sys, lifetime=10)"
   ]
  },
  {
   "cell_type": "code",
   "execution_count": 5,
   "id": "1d199e0a",
   "metadata": {},
   "outputs": [],
   "source": [
    "# Add some stream impacts for LCA\n",
    "GWP = qs.ImpactIndicator('GWP', unit='kg CO2')\n",
    "ww_item1 = qs.StreamImpactItem('ww_item1', linked_stream=ww1, GWP=0.1)\n",
    "ww_item2 = ww_item1.copy('ww_item2', stream=ww2)"
   ]
  },
  {
   "cell_type": "code",
   "execution_count": 6,
   "id": "829199f2",
   "metadata": {},
   "outputs": [],
   "source": [
    "# Let's also consider some construction impacts,\n",
    "# assume we need 5000 kg of stainless steel per m3 of reactor,\n",
    "# and the impact of is 4 kg CO2/kg stainless steel\n",
    "StainlessSteel = qs.ImpactItem('StainlessSteel', functional_unit='kg', GWP=4)\n",
    "M1_ss = qs.Construction('M1_ss', item=StainlessSteel)\n",
    "M1.construction = (M1_ss,)"
   ]
  },
  {
   "cell_type": "code",
   "execution_count": 7,
   "id": "9e0a29ff",
   "metadata": {},
   "outputs": [],
   "source": [
    "# Instead of making a subclass of `MixTank` to add the impacts,\n",
    "# we can do so on the fly\n",
    "old_M1_design = M1._design\n",
    "def new_M1_design():\n",
    "    old_M1_design() # we firstly call the origin design method\n",
    "    M1_ss.quantity = M1.design_results['Total volume'] * 5000 # 5000 is just the assumed density\n",
    "    M1.add_construction()\n",
    "M1._design = new_M1_design # in this line we pass the new design method to M1"
   ]
  },
  {
   "cell_type": "markdown",
   "id": "1eaf5350",
   "metadata": {},
   "source": [
    "---\n",
    "### Serious digression\n",
    "\n",
    "Since I havent' thrown in a joke for a while..."
   ]
  },
  {
   "cell_type": "code",
   "execution_count": 8,
   "id": "27e0d817",
   "metadata": {},
   "outputs": [
    {
     "data": {
      "text/html": [
       "<img src=\"https://thesaurus.plus/img/synonyms/183/do_on_the_fly.png\"/>"
      ],
      "text/plain": [
       "<IPython.core.display.Image object>"
      ]
     },
     "execution_count": 8,
     "metadata": {},
     "output_type": "execute_result"
    }
   ],
   "source": [
    "# I was trying to find a good meme for \"on the fly\"\n",
    "# expecting some funny versin of\n",
    "from IPython.display import Image\n",
    "Image(url='https://thesaurus.plus/img/synonyms/183/do_on_the_fly.png')"
   ]
  },
  {
   "cell_type": "code",
   "execution_count": 9,
   "id": "f002ee8b",
   "metadata": {},
   "outputs": [
    {
     "data": {
      "text/html": [
       "<img src=\"https://images-na.ssl-images-amazon.com/images/I/910v4vftdcL.jpg\" width=\"400\"/>"
      ],
      "text/plain": [
       "<IPython.core.display.Image object>"
      ]
     },
     "execution_count": 9,
     "metadata": {},
     "output_type": "execute_result"
    }
   ],
   "source": [
    "# But for some reason I found tons of, but the actual animal that we\n",
    "# well... don't really like\n",
    "Image(url='https://images-na.ssl-images-amazon.com/images/I/910v4vftdcL.jpg', width=400)"
   ]
  },
  {
   "cell_type": "code",
   "execution_count": 10,
   "id": "c77ef0b1",
   "metadata": {},
   "outputs": [],
   "source": [
    "# So I tried something more straightforward,\n",
    "# typed in \"on the fly meme\" in the almighty Google\n",
    "# and... (see it on your own if you want, and no comments from me)\n",
    "# Image(url='https://i2.wp.com/comicsandmemes.com/wp-content/uploads/fly-on-vice-president-mike-pences-head-debate-meme-who-wore-it-best-hillary-clinton-mike-pence-debate-fly.jpg?resize=768%2C576&ssl=1', width=400)"
   ]
  },
  {
   "cell_type": "markdown",
   "id": "5bc66a44",
   "metadata": {},
   "source": [
    "---"
   ]
  },
  {
   "cell_type": "code",
   "execution_count": 11,
   "id": "ffe79344",
   "metadata": {},
   "outputs": [],
   "source": [
    "# Also let's add in the impacts for electricity\n",
    "Electricity = qs.ImpactItem('Electricity', functional_unit='kWh', GWP=0.1)"
   ]
  },
  {
   "cell_type": "code",
   "execution_count": 12,
   "id": "a55b02c0",
   "metadata": {},
   "outputs": [
    {
     "name": "stderr",
     "output_type": "stream",
     "text": [
      "/Users/yalinli_cabbi/opt/anaconda3/envs/demo/lib/python3.8/site-packages/biosteam/_unit.py:697: RuntimeWarning: the purchase cost item, 'StainlessSteel', has no defined bare-module factor in the 'MixTank.F_BM' dictionary; bare-module factor now has a default value of 1\n",
      "  warn(warning)\n"
     ]
    }
   ],
   "source": [
    "# Finally the LCA\n",
    "lca = qs.LCA(sys, lifetime=10,\n",
    "             # The electricity is in kWh/yr, so multiply by the lifetime\n",
    "             Electricity=lambda:sys.get_electricity_consumption()*10)"
   ]
  },
  {
   "cell_type": "markdown",
   "id": "c598ed3c",
   "metadata": {},
   "source": [
    "### 1.2. Create a system model and add uncertainty parameters and metrics\n",
    "The `Model` class is used to enable uncertainty and sensitivity analyses, so we need to firstly create a model for our system."
   ]
  },
  {
   "cell_type": "code",
   "execution_count": 13,
   "id": "8eaeecd2",
   "metadata": {},
   "outputs": [],
   "source": [
    "model = Model(sys)"
   ]
  },
  {
   "cell_type": "markdown",
   "id": "571449c3",
   "metadata": {},
   "source": [
    "Uncertainty parameters can be added using the `model.parameter` method. Let's assume we are unsure of the price of wastewater, electricity, the impact characterization factor of stainless steel and electricity, as well as the split ratio of the splitter and temperature of the heat exchanger."
   ]
  },
  {
   "cell_type": "code",
   "execution_count": 14,
   "id": "1a28dd29",
   "metadata": {},
   "outputs": [],
   "source": [
    "# We use the package `chaospy` to create distributions\n",
    "from chaospy import distributions as shape"
   ]
  },
  {
   "cell_type": "code",
   "execution_count": 15,
   "id": "6017316e",
   "metadata": {},
   "outputs": [],
   "source": [
    "# There are multiple ways we can use the `parameter` method,\n",
    "# but I like the following one most\n",
    "param = model.parameter\n",
    "\n",
    "dist = shape.Uniform(lower=0.05, upper=0.15)\n",
    "@param(name='Wastewater price',\n",
    "       element='TEA', # `element` determine which portion of the system will be simulated\n",
    "       # `kind` determines whether the value will be included in simulation\n",
    "       kind='isolated', \n",
    "       units='USD/kg',\n",
    "       baseline=ww1.price, distribution=dist)\n",
    "def set_ww_price(i): # here this `set_ww_price` is the `setter` function that will update the price\n",
    "    ww1.price = ww2.price = i"
   ]
  },
  {
   "cell_type": "code",
   "execution_count": 16,
   "id": "37749565",
   "metadata": {},
   "outputs": [
    {
     "data": {
      "text/plain": [
       "<Parameter: [TEA] Electricity price (USD/kWh)>"
      ]
     },
     "execution_count": 16,
     "metadata": {},
     "output_type": "execute_result"
    }
   ],
   "source": [
    "# This will be another way to add parameters\n",
    "baseline = PowerUtility.price\n",
    "dist = shape.Triangle(lower=baseline*0.9, midpoint=baseline, upper=baseline*1.1)\n",
    "\n",
    "# The setter function\n",
    "def e_setter(i):\n",
    "    PowerUtility.price = i\n",
    "    \n",
    "param(setter=e_setter, name='Electricity price', kind='isolated', element='TEA',\n",
    "      units='USD/kWh', baseline=baseline, distribution=dist)"
   ]
  },
  {
   "cell_type": "code",
   "execution_count": 17,
   "id": "74d6bd47",
   "metadata": {},
   "outputs": [],
   "source": [
    "# Then impact factors\n",
    "baseline = StainlessSteel.CFs['GWP']\n",
    "dist = shape.Uniform(lower=baseline*0.9, upper=baseline*1.1)\n",
    "@param(name='Stainless steel GWP', element='LCA', kind='isolated', \n",
    "       units='kg CO2/kg', baseline=baseline, distribution=dist)\n",
    "def set_ss_GWP(i):\n",
    "    StainlessSteel.CFs['GWP'] = i\n",
    "    \n",
    "baseline = Electricity.CFs['GWP']\n",
    "dist = shape.Uniform(lower=baseline*0.9, upper=baseline*1.1)\n",
    "@param(name='Electricity GWP', element='LCA', kind='isolated', \n",
    "       units='kg CO2/kg', baseline=baseline, distribution=dist)\n",
    "def set_e_GWP(i):\n",
    "    Electricity.CFs['GWP'] = i"
   ]
  },
  {
   "cell_type": "code",
   "execution_count": 18,
   "id": "645c9bb0",
   "metadata": {},
   "outputs": [],
   "source": [
    "# And finally the split ratio and heat exchanger temperature,\n",
    "# `kind` need to be \"coupled\" for them because these two parameters\n",
    "# would affect mass/energy balance (e.g., they are used in the `_run` method)\n",
    "dist = shape.Triangle(lower=0.1, midpoint=0.2, upper=0.3)\n",
    "@param(name='S1 split', element=S1, kind='coupled', \n",
    "       units='-', baseline=0.2, distribution=dist)\n",
    "def set_S1_split(i):\n",
    "    S1.split = i\n",
    "\n",
    "baseline = H1.T\n",
    "# `midpoint` doesn't need to be the same as the baseline\n",
    "dist = shape.Triangle(lower=baseline-5, midpoint=baseline+1, upper=baseline*1.1)\n",
    "@param(name='H1 temperature', element=H1, kind='coupled', \n",
    "       units='°C', baseline=baseline, distribution=dist)\n",
    "def set_H1_T(i):\n",
    "    H1.T = i"
   ]
  },
  {
   "cell_type": "code",
   "execution_count": 19,
   "id": "bf841033",
   "metadata": {},
   "outputs": [
    {
     "data": {
      "text/plain": [
       "<Metric: [LCA] GWP (kg CO2/yr)>"
      ]
     },
     "execution_count": 19,
     "metadata": {},
     "output_type": "execute_result"
    }
   ],
   "source": [
    "# Now it's time to add metrics!\n",
    "# Of course we are interested in the net earnings and total GWP,\n",
    "# again showing two ways to add metrics\n",
    "metric = model.metric\n",
    "@metric(name='Net earning', units='USD/yr', element='TEA')\n",
    "def get_annual_net_earnings():\n",
    "    return tea.net_earnings\n",
    "\n",
    "# Again two ways to do so\n",
    "def get_annual_GWP():\n",
    "    return lca.total_impacts['GWP']/lca.lifetime\n",
    "metric(getter=get_annual_GWP, name='GWP', units='kg CO2/yr', element='LCA')"
   ]
  },
  {
   "cell_type": "code",
   "execution_count": 20,
   "id": "6f1b1935",
   "metadata": {},
   "outputs": [
    {
     "name": "stdout",
     "output_type": "stream",
     "text": [
      "Model: TEA net earning [USD/yr]\n",
      "       LCA GWP [kg CO2/yr]\n",
      " Element:      Parameter:\n",
      " TEA           Wastewater price\n",
      "               Electricity price\n",
      " LCA           Stainless steel GWP\n",
      "               Electricity GWP\n",
      " Splitter-S1   S1 split\n",
      " HXutility-H1  H1 temperature\n"
     ]
    }
   ],
   "source": [
    "model"
   ]
  },
  {
   "cell_type": "markdown",
   "id": "d3b8f3e1",
   "metadata": {},
   "source": [
    "[Back to top](#top)"
   ]
  },
  {
   "cell_type": "markdown",
   "id": "48c14149",
   "metadata": {},
   "source": [
    "## 2. Perform uncertainty and sensitivity analyses <a class=\"anchor\" id=\"s2\"></a>"
   ]
  },
  {
   "cell_type": "markdown",
   "id": "387ff3df",
   "metadata": {},
   "source": [
    "### 2.1. Uncertainty analysis"
   ]
  },
  {
   "cell_type": "code",
   "execution_count": 21,
   "id": "867d766d",
   "metadata": {},
   "outputs": [],
   "source": [
    "# Once we have the model, Monte Carlo would be a breeze\n",
    "import numpy as np\n",
    "np.random.seed(3221) # setting the seed ensures you getting the same sample\n",
    "\n",
    "# Let's say we want to perform 100 simulations\n",
    "samples = model.sample(N=100, rule='L')\n",
    "model.load_samples(samples)"
   ]
  },
  {
   "cell_type": "code",
   "execution_count": 22,
   "id": "6df46b22",
   "metadata": {},
   "outputs": [],
   "source": [
    "# Let's do the simulation!\n",
    "model.evaluate()"
   ]
  },
  {
   "cell_type": "code",
   "execution_count": 23,
   "id": "eff2cc52",
   "metadata": {
    "scrolled": false
   },
   "outputs": [],
   "source": [
    "# Parameter values and metric results are stored in the `table` attribute\n",
    "# model.table"
   ]
  },
  {
   "cell_type": "code",
   "execution_count": 24,
   "id": "913e1074",
   "metadata": {},
   "outputs": [],
   "source": [
    "# Here are some codes I often use to clean up the results\n",
    "import pandas as pd\n",
    "def organize_results(model, path):\n",
    "    idx = len(model.parameters)\n",
    "    parameters = model.table.iloc[:, :idx]\n",
    "    results = model.table.iloc[:, idx:]\n",
    "    percentiles = results.quantile([0, 0.05, 0.25, 0.5, 0.75, 0.95, 1])\n",
    "    with pd.ExcelWriter(path) as writer:\n",
    "        parameters.to_excel(writer, sheet_name='Parameters')\n",
    "        results.to_excel(writer, sheet_name='Results')\n",
    "        percentiles.to_excel(writer, sheet_name='Percentiles')"
   ]
  },
  {
   "cell_type": "code",
   "execution_count": 25,
   "id": "9b08c787",
   "metadata": {},
   "outputs": [],
   "source": [
    "# You can run this to save the results\n",
    "# organize_results(model, 'example_model.xlsx')"
   ]
  },
  {
   "cell_type": "code",
   "execution_count": 26,
   "id": "49f93272",
   "metadata": {},
   "outputs": [
    {
     "data": {
      "image/png": "[encoded data removed]",
      "text/plain": [
       "<Figure size 432x288 with 1 Axes>"
      ]
     },
     "execution_count": 26,
     "metadata": {},
     "output_type": "execute_result"
    }
   ],
   "source": [
    "# You can have a quick look of the results by using the handy functions in the `stats` module\n",
    "fig, ax = qs.stats.plot_uncertainties(model)\n",
    "fig"
   ]
  },
  {
   "cell_type": "code",
   "execution_count": 27,
   "id": "fad0fede",
   "metadata": {
    "scrolled": false
   },
   "outputs": [
    {
     "data": {
      "image/png": "[encoded data removed]",
      "text/plain": [
       "<Figure size 432x432 with 3 Axes>"
      ]
     },
     "execution_count": 27,
     "metadata": {},
     "output_type": "execute_result"
    }
   ],
   "source": [
    "# There are some fancy plots\n",
    "fig, ax = qs.stats.plot_uncertainties(model, x_axis=model.metrics[0], y_axis=model.metrics[1],\n",
    "                                      kind='kde-kde', center_kws={'fill': True})\n",
    "fig"
   ]
  },
  {
   "cell_type": "markdown",
   "id": "ec8bbece",
   "metadata": {},
   "source": [
    "### 2.2. Sensitivity analysis\n",
    "\n",
    "QSDsan current has the following functions for sensitivity analysis:\n",
    "\n",
    "- `get_correlations`\n",
    "\n",
    "    - Spearman\n",
    "    - Person\n",
    "    - Kendall\n",
    "    - Kolmogorov–Smirnov (KS)\n",
    "    \n",
    "- `morris_analysis`\n",
    "\n",
    "    - There's also `morris_till_convergence` to increase the trajectory number until the results reach the set criterion or the trajectory number reaches the set maximum\n",
    "    \n",
    "- `fast_analysis` for Fourier amplitude sensitivity test (Saltelli's extended FAST) or random balance design (RBD) FAST\n",
    "- `sobol_analysis`\n",
    "\n",
    "For each of these methods, there is a corresponding `plot_XXX` (e.g., `plot_correlations` for `get_correlations`) method for visualization of the results."
   ]
  },
  {
   "cell_type": "code",
   "execution_count": 28,
   "id": "432ad373",
   "metadata": {},
   "outputs": [],
   "source": [
    "# The documentation page of `stats` has some quite good examples,\n",
    "# but let's just do a quick one here\n",
    "# `r_df` and `p_df` are dataframes containing the sensitivity indices\n",
    "# and p-values\n",
    "r_df, p_df = qs.stats.get_correlations(model, kind='Spearman')"
   ]
  },
  {
   "cell_type": "code",
   "execution_count": 29,
   "id": "eba2f39c",
   "metadata": {},
   "outputs": [
    {
     "name": "stdout",
     "output_type": "stream",
     "text": [
      "Element                                                       TEA  \\\n",
      "Input y                                      Net earning [USD/yr]   \n",
      "Element      Input x                                                \n",
      "TEA          Wastewater price [USD/kg]                         -1   \n",
      "             Electricity price [USD/kWh]                   0.0601   \n",
      "LCA          Stainless steel GWP [kg CO2/kg]               0.0802   \n",
      "             Electricity GWP [kg CO2/kg]                 -0.00583   \n",
      "Splitter-S1  S1 split [-]                                  0.0398   \n",
      "HXutility-H1 H1 temperature [°C]                         -0.00217   \n",
      "\n",
      "Element                                                  LCA  \n",
      "Input y                                      GWP [kg CO2/yr]  \n",
      "Element      Input x                                          \n",
      "TEA          Wastewater price [USD/kg]               -0.0506  \n",
      "             Electricity price [USD/kWh]               0.124  \n",
      "LCA          Stainless steel GWP [kg CO2/kg]           0.772  \n",
      "             Electricity GWP [kg CO2/kg]             -0.0711  \n",
      "Splitter-S1  S1 split [-]                             -0.603  \n",
      "HXutility-H1 H1 temperature [°C]                     -0.0557   Element                                                       TEA  \\\n",
      "Input y                                      Net earning [USD/yr]   \n",
      "Element      Input x                                                \n",
      "TEA          Wastewater price [USD/kg]                          0   \n",
      "             Electricity price [USD/kWh]                    0.552   \n",
      "LCA          Stainless steel GWP [kg CO2/kg]                0.428   \n",
      "             Electricity GWP [kg CO2/kg]                    0.954   \n",
      "Splitter-S1  S1 split [-]                                   0.694   \n",
      "HXutility-H1 H1 temperature [°C]                            0.983   \n",
      "\n",
      "Element                                                  LCA  \n",
      "Input y                                      GWP [kg CO2/yr]  \n",
      "Element      Input x                                          \n",
      "TEA          Wastewater price [USD/kg]                 0.617  \n",
      "             Electricity price [USD/kWh]                0.22  \n",
      "LCA          Stainless steel GWP [kg CO2/kg]        5.65e-21  \n",
      "             Electricity GWP [kg CO2/kg]               0.482  \n",
      "Splitter-S1  S1 split [-]                           3.29e-11  \n",
      "HXutility-H1 H1 temperature [°C]                       0.582  \n"
     ]
    }
   ],
   "source": [
    "# You can see the price of wastewater drives the cost\n",
    "# while the characterization factor of stainless steel drives the impacts\n",
    "print(r_df, p_df)"
   ]
  },
  {
   "cell_type": "code",
   "execution_count": 30,
   "id": "def1f45d",
   "metadata": {},
   "outputs": [
    {
     "data": {
      "image/png": "[encoded data removed]",
      "text/plain": [
       "<Figure size 457.475x384 with 1 Axes>"
      ]
     },
     "execution_count": 30,
     "metadata": {},
     "output_type": "execute_result"
    }
   ],
   "source": [
    "# The figure just makes it so much easier to grasp the results :p\n",
    "fig, ax = qs.stats.plot_correlations(r_df)\n",
    "fig"
   ]
  },
  {
   "cell_type": "markdown",
   "id": "eb9f4a38",
   "metadata": {},
   "source": [
    "[Back to top](#top)"
   ]
  }
 ],
 "metadata": {
  "kernelspec": {
   "display_name": "Python 3 (ipykernel)",
   "language": "python",
   "name": "python3"
  },
  "language_info": {
   "codemirror_mode": {
    "name": "ipython",
    "version": 3
   },
   "file_extension": ".py",
   "mimetype": "text/x-python",
   "name": "python",
   "nbconvert_exporter": "python",
   "pygments_lexer": "ipython3",
   "version": "3.9.13"
  },
  "varInspector": {
   "cols": {
    "lenName": 16,
    "lenType": 16,
    "lenVar": 40
   },
   "kernels_config": {
    "python": {
     "delete_cmd_postfix": "",
     "delete_cmd_prefix": "del ",
     "library": "var_list.py",
     "varRefreshCmd": "print(var_dic_list())"
    },
    "r": {
     "delete_cmd_postfix": ") ",
     "delete_cmd_prefix": "rm(",
     "library": "var_list.r",
     "varRefreshCmd": "cat(var_dic_list()) "
    }
   },
   "types_to_exclude": [
    "module",
    "function",
    "builtin_function_or_method",
    "instance",
    "_Feature"
   ],
   "window_display": false
  }
 },
 "nbformat": 4,
 "nbformat_minor": 5
}
