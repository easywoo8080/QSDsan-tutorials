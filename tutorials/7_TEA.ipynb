{
 "cells": [
  {
   "cell_type": "markdown",
   "metadata": {},
   "source": [
    "# Techno-Economic Analysis (TEA) <a class=\"anchor\" id=\"top\"></a>\n",
    "\n",
    "* **Prepared by:**\n",
    "    \n",
    "    - [Yalin Li](https://qsdsan.readthedocs.io/en/latest/CONTRIBUTING.html)\n",
    "\n",
    "* **Covered topics:**\n",
    "\n",
    "    - [1. Using the TEA class](#s1)\n",
    "    - [2. Developing your own TEA subclass](#s2)\n",
    "    \n",
    "- **Video demo:**\n",
    "\n",
    "    - [Hannah Lohman](https://qsdsan.readthedocs.io/en/latest/CONTRIBUTING.html)\n",
    "\n",
    "To run tutorials in your browser, go to this [Binder page](https://mybinder.org/v2/gh/QSD-Group/QSDsan-env/main?urlpath=git-pull%3Frepo%3Dhttps%253A%252F%252Fgithub.com%252FQSD-group%252FQSDsan%26urlpath%3Dtree%252FQSDsan%252Fdocs%252Fsource%252Ftutorials%26branch%3Dmain).\n",
    "\n",
    "You can also watch a video demo on [YouTube](https://youtu.be/v3qNNZypTKY) (subscriptions & likes appreciated!)."
   ]
  },
  {
   "cell_type": "code",
   "execution_count": 1,
   "metadata": {
    "scrolled": true
   },
   "outputs": [
    {
     "name": "stdout",
     "output_type": "stream",
     "text": [
      "This tutorial was made with qsdsan v1.2.5.\n"
     ]
    }
   ],
   "source": [
    "import qsdsan as qs\n",
    "print(f'This tutorial was made with qsdsan v{qs.__version__}.')"
   ]
  },
  {
   "cell_type": "markdown",
   "metadata": {},
   "source": [
    "## 1. Using the `TEA` class <a class=\"anchor\" id=\"s1\"></a>"
   ]
  },
  {
   "cell_type": "markdown",
   "metadata": {},
   "source": [
    "TEA can be performed through subclasses of the `TEA` class in `biosteam`, but you cannot just use the `TEA` class (it's an abstract class, see later part of this tutorial for details).\n",
    "\n",
    "In `qsdsan`, there is a `TEA` class (used to be called `SimpleTEA` but now the `Simple` part is dropped since it's not a \"simple\" version of fewer functions) that is based on the `TEA` class of `biosteam`.\n",
    "\n",
    "You can directly use the default `qsdsan.TEA` class, and you can make your own `TEA` subclass if you want to include customize cost calculations (see [Section 2](#s2) of this tutorial)."
   ]
  },
  {
   "cell_type": "markdown",
   "metadata": {},
   "source": [
    "---\n",
    "\n",
    "### Note"
   ]
  },
  {
   "cell_type": "markdown",
   "metadata": {},
   "source": [
    "In `qsdsan.TEA`, there are two attributes related to annual capital cost: `annualized_equipment_cost` and `annualized_CAPEX`.\n",
    "\n",
    "`annualized_equipment_cost` is calculated as the sum of annualized capital cost of each equipment. The annualized capital cost of each equipment is calculated as:\n",
    "\n",
    "`annualized_equipment_cost` = $$\\frac{installed\\ equipment\\ cost*r}{(1-(1+r)^{-lifetime})}$$\n",
    "\n",
    "where `r` is the discount rate, and `lifetime` will be:\n",
    "- lifetime of the equipment (if provided)\n",
    "- lifetime of the unit (if provided)\n",
    "- lifetime given in initializing the `TEA` instance"
   ]
  },
  {
   "cell_type": "markdown",
   "metadata": {},
   "source": [
    "This becomes optimistic when the TEA year is not divisible by the lifetime of the equipment (e.g., you are doing a TEA for 10 years but the equipment lifetime is 8 years). Using this method, you are implicitly assuming that you can savage the remaining value of the equipment."
   ]
  },
  {
   "cell_type": "markdown",
   "metadata": {},
   "source": [
    "On the other hand, `annualized_CAPEX` uses the annualized net present value (NPV) calculated from the cash flow analysis to get the annualized capital cost.\n",
    "\n",
    "$$\n",
    "annualized\\ NPV = \\frac{NPV*r}{(1-(1+r)^{-lifetime})}\n",
    "$$\n",
    "\n",
    "and the lifetime would be the lifetime of the TEA (i.e., the one provided when initializing the `qsdsan.TEA` instance).\n",
    "\n",
    "So\n",
    "\n",
    "`annualized_CAPEX` = $$annual\\ net\\ earning - annualized\\ NPV$$\n",
    "\n",
    "Additionally, there is equivalent annual cost (EAC) calculated as\n",
    "\n",
    "$$\n",
    "EAC = annual\\ operating\\ cost + annualized\\ CAPEX\n",
    "$$\n",
    "\n",
    "In this method, no savage value is assumed for the equipment."
   ]
  },
  {
   "cell_type": "markdown",
   "metadata": {},
   "source": [
    "If unsure, it is always best to look at the [source code](https://github.com/QSD-Group/QSDsan/blob/main/qsdsan/_tea.py) and determine what is right for your system."
   ]
  },
  {
   "cell_type": "markdown",
   "metadata": {},
   "source": [
    "---"
   ]
  },
  {
   "cell_type": "code",
   "execution_count": 2,
   "metadata": {},
   "outputs": [
    {
     "name": "stderr",
     "output_type": "stream",
     "text": [
      "C:\\Users\\Yalin\\anaconda3\\envs\\bq\\lib\\site-packages\\qsdsan\\_sanstream.py:67: RuntimeWarning: <WasteStream: flushing_water> has been replaced in registry\n",
      "  super().__init__(ID=ID, flow=flow, phase=phase, T=T, P=P,\n"
     ]
    },
    {
     "data": {
      "image/svg+xml": [
       "<svg xmlns=\"http://www.w3.org/2000/svg\" xmlns:xlink=\"http://www.w3.org/1999/xlink\" width=\"382pt\" height=\"291pt\" viewBox=\"0.00 0.00 382.00 290.50\">\n",
       "<g id=\"graph0\" class=\"graph\" transform=\"scale(1 1) rotate(0) translate(4 286.5)\">\n",
       "<!-- U1\n",
       "Excretion&#45;&gt;U2\n",
       "Pit latrine -->\n",
       "<g id=\"edge1\" class=\"edge\">\n",
       "<title>U1\n",
       "Excretion:c-&gt;U2\n",
       "Pit latrine:c</title>\n",
       "<path fill=\"none\" stroke=\"#90918e\" stroke-width=\"1.6\" d=\"M76.14,-266.41C108.26,-269.43 154.37,-268.52 186,-245.5 208.08,-229.44 219.24,-199.82 224.78,-176.97\"/>\n",
       "<polygon fill=\"#90918e\" stroke=\"#90918e\" stroke-width=\"1.6\" points=\"228.24,-177.54 226.95,-167.02 221.4,-176.04 228.24,-177.54\"/>\n",
       "<g id=\"a_edge1-label\"><a xlink:title=\"Temperature: 298 K\n",
       "Pressure: 101325 Pa\n",
       "Liquid flow: 0.00564 kmol/hr\">\n",
       "<text text-anchor=\"middle\" x=\"135\" y=\"-271.3\" font-family=\"Arial\" font-size=\"14.00\" fill=\"#90918e\"> U1 urine</text>\n",
       "</a>\n",
       "</g>\n",
       "</g>\n",
       "<!-- U1\n",
       "Excretion&#45;&gt;U2\n",
       "Pit latrine -->\n",
       "<g id=\"edge9\" class=\"edge\">\n",
       "<title>U1\n",
       "Excretion:c-&gt;U2\n",
       "Pit latrine:c</title>\n",
       "<path fill=\"none\" stroke=\"#90918e\" stroke-width=\"1.6\" d=\"M63.14,-238.69C69.61,-233.57 76.81,-228.45 84,-224.5 126,-201.41 145.34,-214.88 186,-189.5 192.55,-185.41 198.88,-180.17 204.59,-174.75\"/>\n",
       "<polygon fill=\"#90918e\" stroke=\"#90918e\" stroke-width=\"1.6\" points=\"207.4,-176.88 211.97,-167.32 202.43,-171.95 207.4,-176.88\"/>\n",
       "<g id=\"a_edge9-label\"><a xlink:title=\"Temperature: 298 K\n",
       "Pressure: 101325 Pa\n",
       "Liquid flow: 0.0019 kmol/hr\">\n",
       "<text text-anchor=\"middle\" x=\"135\" y=\"-228.3\" font-family=\"Arial\" font-size=\"14.00\" fill=\"#90918e\"> U1 feces</text>\n",
       "</a>\n",
       "</g>\n",
       "</g>\n",
       "<!-- U2\n",
       "Pit latrine&#45;&gt; U2 excreta -->\n",
       "<g id=\"edge2\" class=\"edge\">\n",
       "<title>U2\n",
       "Pit latrine:c-&gt; U2 excreta:w</title>\n",
       "<path fill=\"none\" stroke=\"#90918e\" stroke-width=\"2.2\" d=\"M246.86,-167.21C254.64,-177.39 264.86,-189.09 276,-197.5 310.45,-223.5 321.34,-237.5 364.5,-237.5\"/>\n",
       "<g id=\"a_edge2-label\"><a xlink:title=\"Temperature: 298 K\n",
       "Pressure: 101325 Pa\n",
       "Liquid flow: 0.0326 kmol/hr\">\n",
       "<text text-anchor=\"middle\" x=\"315.5\" y=\"-240.3\" font-family=\"Arial\" font-size=\"14.00\" fill=\"#90918e\"> U2 excreta</text>\n",
       "</a>\n",
       "</g>\n",
       "</g>\n",
       "<!-- U2\n",
       "Pit latrine&#45;&gt; U2 leachate -->\n",
       "<g id=\"edge7\" class=\"edge\">\n",
       "<title>U2\n",
       "Pit latrine:c-&gt; U2 leachate:w</title>\n",
       "<path fill=\"none\" stroke=\"#90918e\" stroke-width=\"2.2\" d=\"M268.19,-153.47C292.91,-159.26 326.26,-167.77 355,-177.5 359.34,-178.97 359.92,-181.5 364.5,-181.5\"/>\n",
       "<g id=\"a_edge7-label\"><a xlink:title=\"Temperature: 298 K\n",
       "Pressure: 101325 Pa\n",
       "Liquid flow: 0.0449 kmol/hr\">\n",
       "<text text-anchor=\"middle\" x=\"315.5\" y=\"-181.3\" font-family=\"Arial\" font-size=\"14.00\" fill=\"#90918e\"> U2 leachate</text>\n",
       "</a>\n",
       "</g>\n",
       "</g>\n",
       "<!-- U2\n",
       "Pit latrine&#45;&gt; U2 fugative\n",
       " CH4 -->\n",
       "<g id=\"edge8\" class=\"edge\">\n",
       "<title>U2\n",
       "Pit latrine:c-&gt; U2 fugative\n",
       " CH4:w</title>\n",
       "<path fill=\"none\" stroke=\"#90918e\" d=\"M250.47,-123.74C257.65,-116.86 266.46,-110.12 276,-106.5 308.83,-94.05 320.58,-99.55 355,-106.5 359.49,-107.41 359.92,-110.5 364.5,-110.5\"/>\n",
       "<g id=\"a_edge8-label\"><a xlink:title=\"Temperature: 298 K\n",
       "Pressure: 101325 Pa\n",
       "Gas flow: 4.31e-05 kmol/hr\">\n",
       "<text text-anchor=\"middle\" x=\"315.5\" y=\"-125.3\" font-family=\"Arial\" font-size=\"14.00\" fill=\"#90918e\"> U2 fugative</text>\n",
       "<text text-anchor=\"middle\" x=\"315.5\" y=\"-110.3\" font-family=\"Arial\" font-size=\"14.00\" fill=\"#90918e\"> CH4</text>\n",
       "</a>\n",
       "</g>\n",
       "</g>\n",
       "<!-- U2\n",
       "Pit latrine&#45;&gt; U2 fugative\n",
       " N2O -->\n",
       "<g id=\"edge10\" class=\"edge\">\n",
       "<title>U2\n",
       "Pit latrine:c-&gt; U2 fugative\n",
       " N2O:w</title>\n",
       "<path fill=\"none\" stroke=\"#90918e\" stroke-dasharray=\"5,2\" d=\"M237.44,-123.73C243.51,-103.97 255.33,-75.54 276,-59.5 307.85,-34.77 324.17,-39.5 364.5,-39.5\"/>\n",
       "<g id=\"a_edge10-label\"><a xlink:title=\"(empty)\">\n",
       "<text text-anchor=\"middle\" x=\"315.5\" y=\"-78.3\" font-family=\"Arial\" font-size=\"14.00\" fill=\"#90918e\"> U2 fugative</text>\n",
       "<text text-anchor=\"middle\" x=\"315.5\" y=\"-63.3\" font-family=\"Arial\" font-size=\"14.00\" fill=\"#90918e\"> N2O</text>\n",
       "</a>\n",
       "</g>\n",
       "</g>\n",
       "<!--  U2 toilet paper&#45;&gt;U2\n",
       "Pit latrine -->\n",
       "<g id=\"edge3\" class=\"edge\">\n",
       "<title> U2 toilet paper:e-&gt;U2\n",
       "Pit latrine:c</title>\n",
       "<path fill=\"none\" stroke=\"#90918e\" d=\"M45,-173.5C59.54,-173.5 144.19,-159.81 193.8,-151.58\"/>\n",
       "<g id=\"a_edge3-label\"><a xlink:title=\"Temperature: 298 K\n",
       "Pressure: 101325 Pa\n",
       "Liquid flow: 0.000282 kmol/hr\">\n",
       "<text text-anchor=\"middle\" x=\"135\" y=\"-172.3\" font-family=\"Arial\" font-size=\"14.00\" fill=\"#90918e\"> U2 toilet paper</text>\n",
       "</a>\n",
       "</g>\n",
       "</g>\n",
       "<!--  flushing water&#45;&gt;U2\n",
       "Pit latrine -->\n",
       "<g id=\"edge4\" class=\"edge\">\n",
       "<title> flushing water:e-&gt;U2\n",
       "Pit latrine:c</title>\n",
       "<path fill=\"none\" stroke=\"#90918e\" stroke-width=\"2.2\" d=\"M45,-117.5C107.86,-117.5 124.7,-114.58 186,-128.5 188.56,-129.08 191.16,-129.78 193.76,-130.56\"/>\n",
       "<g id=\"a_edge4-label\"><a xlink:title=\"Temperature: 298 K\n",
       "Pressure: 101325 Pa\n",
       "Liquid flow: 0.0231 kmol/hr\">\n",
       "<text text-anchor=\"middle\" x=\"135\" y=\"-132.3\" font-family=\"Arial\" font-size=\"14.00\" fill=\"#90918e\"> flushing water</text>\n",
       "</a>\n",
       "</g>\n",
       "</g>\n",
       "<!--  cleansing water&#45;&gt;U2\n",
       "Pit latrine -->\n",
       "<g id=\"edge5\" class=\"edge\">\n",
       "<title> cleansing water:e-&gt;U2\n",
       "Pit latrine:c</title>\n",
       "<path fill=\"none\" stroke=\"#90918e\" stroke-dasharray=\"5,2\" d=\"M45,-61.5C109.16,-61.5 131.2,-59.12 186,-92.5 198.66,-100.22 209.38,-112.89 217.07,-123.91\"/>\n",
       "<g id=\"a_edge5-label\"><a xlink:title=\"(empty)\">\n",
       "<text text-anchor=\"middle\" x=\"135\" y=\"-96.3\" font-family=\"Arial\" font-size=\"14.00\" fill=\"#90918e\"> cleansing water</text>\n",
       "</a>\n",
       "</g>\n",
       "</g>\n",
       "<!--  U2 desiccant&#45;&gt;U2\n",
       "Pit latrine -->\n",
       "<g id=\"edge6\" class=\"edge\">\n",
       "<title> U2 desiccant:e-&gt;U2\n",
       "Pit latrine:c</title>\n",
       "<path fill=\"none\" stroke=\"#90918e\" stroke-dasharray=\"5,2\" d=\"M45,-5.5C109.26,-5.5 137,4.07 186,-37.5 211.94,-59.5 222.78,-99.14 227.17,-123.79\"/>\n",
       "<g id=\"a_edge6-label\"><a xlink:title=\"(empty)\">\n",
       "<text text-anchor=\"middle\" x=\"135\" y=\"-41.3\" font-family=\"Arial\" font-size=\"14.00\" fill=\"#90918e\"> U2 desiccant</text>\n",
       "</a>\n",
       "</g>\n",
       "</g>\n",
       "<!-- U1\n",
       "Excretion -->\n",
       "<g id=\"node1\" class=\"node\">\n",
       "<title>U1\n",
       "Excretion</title>\n",
       "<g id=\"a_node1\"><a xlink:title=\"No capital costs or utilities\">\n",
       "<polygon fill=\"#555f69\" stroke=\"#90918e\" points=\"76,-282 0,-282 0,-239 76,-239 76,-282\"/>\n",
       "<text text-anchor=\"middle\" x=\"38\" y=\"-264.3\" font-family=\"Arial\" font-size=\"14.00\" fill=\"white\">U1</text>\n",
       "<text text-anchor=\"middle\" x=\"38\" y=\"-249.3\" font-family=\"Arial\" font-size=\"14.00\" fill=\"white\">Excretion</text>\n",
       "</a>\n",
       "</g>\n",
       "</g>\n",
       "<!-- U2\n",
       "Pit latrine -->\n",
       "<g id=\"node2\" class=\"node\">\n",
       "<title>U2\n",
       "Pit latrine</title>\n",
       "<g id=\"a_node2\"><a xlink:title=\"Purchase cost: 898 USD\n",
       "Installed equipment cost: 898 USD\">\n",
       "<polygon fill=\"#555f69\" stroke=\"#90918e\" points=\"268,-167 194,-167 194,-124 268,-124 268,-167\"/>\n",
       "<text text-anchor=\"middle\" x=\"231\" y=\"-149.3\" font-family=\"Arial\" font-size=\"14.00\" fill=\"white\">U2</text>\n",
       "<text text-anchor=\"middle\" x=\"231\" y=\"-134.3\" font-family=\"Arial\" font-size=\"14.00\" fill=\"white\">Pit latrine</text>\n",
       "</a>\n",
       "</g>\n",
       "</g>\n",
       "<!--  U2 excreta -->\n",
       "<g id=\"node3\" class=\"node\">\n",
       "<title> U2 excreta</title>\n",
       "<polygon fill=\"#f98f60\" stroke=\"#90918e\" points=\"374,-237.5 365.75,-244.5 365.75,-230.5 374,-237.5\"/>\n",
       "</g>\n",
       "<!--  U2 toilet paper -->\n",
       "<g id=\"node4\" class=\"node\">\n",
       "<title> U2 toilet paper</title>\n",
       "<polygon fill=\"#f98f60\" stroke=\"#90918e\" points=\"38,-179 32.5,-173.5 38,-168 43.5,-173.5 38,-179\"/>\n",
       "</g>\n",
       "<!--  flushing water -->\n",
       "<g id=\"node5\" class=\"node\">\n",
       "<title> flushing water</title>\n",
       "<polygon fill=\"#f98f60\" stroke=\"#90918e\" points=\"38,-123 32.5,-117.5 38,-112 43.5,-117.5 38,-123\"/>\n",
       "</g>\n",
       "<!--  cleansing water -->\n",
       "<g id=\"node6\" class=\"node\">\n",
       "<title> cleansing water</title>\n",
       "<polygon fill=\"#f98f60\" stroke=\"#90918e\" points=\"38,-67 32.5,-61.5 38,-56 43.5,-61.5 38,-67\"/>\n",
       "</g>\n",
       "<!--  U2 desiccant -->\n",
       "<g id=\"node7\" class=\"node\">\n",
       "<title> U2 desiccant</title>\n",
       "<polygon fill=\"#f98f60\" stroke=\"#90918e\" points=\"38,-11 32.5,-5.5 38,0 43.5,-5.5 38,-11\"/>\n",
       "</g>\n",
       "<!--  U2 leachate -->\n",
       "<g id=\"node8\" class=\"node\">\n",
       "<title> U2 leachate</title>\n",
       "<polygon fill=\"#f98f60\" stroke=\"#90918e\" points=\"374,-181.5 365.75,-188.5 365.75,-174.5 374,-181.5\"/>\n",
       "</g>\n",
       "<!--  U2 fugative\n",
       " CH4 -->\n",
       "<g id=\"node9\" class=\"node\">\n",
       "<title> U2 fugative\n",
       " CH4</title>\n",
       "<polygon fill=\"#f98f60\" stroke=\"#90918e\" points=\"374,-110.5 365.75,-117.5 365.75,-103.5 374,-110.5\"/>\n",
       "</g>\n",
       "<!--  U2 fugative\n",
       " N2O -->\n",
       "<g id=\"node10\" class=\"node\">\n",
       "<title> U2 fugative\n",
       " N2O</title>\n",
       "<polygon fill=\"#f98f60\" stroke=\"#90918e\" points=\"374,-39.5 365.75,-46.5 365.75,-32.5 374,-39.5\"/>\n",
       "</g>\n",
       "</g>\n",
       "</svg>"
      ],
      "text/plain": [
       "<IPython.core.display.SVG object>"
      ]
     },
     "metadata": {},
     "output_type": "display_data"
    }
   ],
   "source": [
    "# Let use an example to illustrate this,\n",
    "# here I'm using some modules from `exposan`\n",
    "import biosteam as bst\n",
    "from exposan import bwaise as bw\n",
    "bw.load() # this loads the components and LCA needed objects\n",
    "su = qs.sanunits\n",
    "\n",
    "# Let's assume that the water costs 0.1 USD/kg,\n",
    "# you can directly adds the cost of chemicals when initializing it \n",
    "flushing_water = qs.WasteStream('flushing_water', price=0.1)\n",
    "cleansing_water = qs.WasteStream('cleansing_water', price=0.1)\n",
    "\n",
    "U1 = su.Excretion('U1', outs=('U1_urine', 'U1_feces'))\n",
    "U2 = su.PitLatrine('U2', ins=(U1-0, U1-1, 'U2_toilet_paper', flushing_water,\n",
    "                              cleansing_water, 'U2_desiccant'),\n",
    "                   outs=('U2_excreta', 'U2_leachate', 'U2_fugative_CH4', 'U2_fugative_N2O'),\n",
    "                   N_user=4, N_toilet=2,\n",
    "                   decay_k_COD=3, decay_k_N=3, max_CH4_emission=0.25)\n",
    "sys1 = qs.System('sys1', path=(U1, U2))\n",
    "sys1.simulate()\n",
    "sys1.diagram()"
   ]
  },
  {
   "cell_type": "code",
   "execution_count": 3,
   "metadata": {},
   "outputs": [
    {
     "name": "stdout",
     "output_type": "stream",
     "text": [
      "Excretion              Units  U1\n",
      "Total purchase cost      USD   0\n",
      "Utility cost          USD/hr NaN\n",
      "Additional OPEX       USD/hr   0\n"
     ]
    }
   ],
   "source": [
    "#  There is no costs associated with the Excretion unit\n",
    "print(U1.results())"
   ]
  },
  {
   "cell_type": "code",
   "execution_count": 4,
   "metadata": {},
   "outputs": [
    {
     "name": "stdout",
     "output_type": "stream",
     "text": [
      "Pit latrine                                      Units       U2\n",
      "Design              Number of users per toilet                4\n",
      "                    Parallel toilets                          2\n",
      "                    Emptying period                 yr      0.8\n",
      "                    Single pit volume               m3     3.66\n",
      "                    Single pit area                 m2      0.8\n",
      "                    Single pit depth                 m     4.57\n",
      "                    Cement                          kg  1.4e+03\n",
      "                    Sand                            kg 6.34e+03\n",
      "                    Gravel                          kg 2.56e+03\n",
      "                    Brick                           kg      454\n",
      "                    Plastic                         kg     20.2\n",
      "                    Steel                           kg     67.2\n",
      "                    Wood                            m3     0.38\n",
      "                    Excavation                      m3     7.31\n",
      "Purchase cost       Total toilets                  USD      898\n",
      "Total purchase cost                                USD      898\n",
      "Utility cost                                    USD/hr        0\n",
      "Additional OPEX                                 USD/hr  0.00513\n"
     ]
    }
   ],
   "source": [
    "# But the PitLatrine unit has capital and operating costs\n",
    "print(U2.results())"
   ]
  },
  {
   "cell_type": "code",
   "execution_count": 5,
   "metadata": {},
   "outputs": [
    {
     "name": "stdout",
     "output_type": "stream",
     "text": [
      "TEA: sys1\n",
      "NPV  : -4,642 USD at 5.0% discount rate\n"
     ]
    }
   ],
   "source": [
    "# With some assumptions, we can calculate costs associated with this system\n",
    "tea1 = qs.TEA(system=sys1, discount_rate=0.05, lifetime=10)\n",
    "tea1.show()"
   ]
  },
  {
   "cell_type": "code",
   "execution_count": 6,
   "metadata": {},
   "outputs": [
    {
     "name": "stdout",
     "output_type": "stream",
     "text": [
      "NPV is -4,642 USD\n",
      "EAC is 601 USD/yr\n",
      "CAPEX is 898 USD\n",
      "AOC is 410 USD/yr\n",
      "sales is 0 USD/yr\n",
      "net_earnings is -410 USD/yr\n"
     ]
    }
   ],
   "source": [
    "# These values are stored as attributes so you can easily access,\n",
    "# note that the `Sales` part does not consider income tax\n",
    "c = qs.currency\n",
    "for attr in ('NPV', 'EAC', 'CAPEX', 'AOC', 'sales', 'net_earnings'):\n",
    "    uom = c if attr in ('NPV', 'CAPEX') else (c+('/yr'))\n",
    "    print(f'{attr} is {getattr(tea1, attr):,.0f} {uom}')"
   ]
  },
  {
   "cell_type": "code",
   "execution_count": 7,
   "metadata": {},
   "outputs": [],
   "source": [
    "# You can generate a report that contains the system flows, designs, and TEA results,\n",
    "# the report will be saved to where this Jupyter Notebook is saved,\n",
    "# if you want to save it somewhere else, you can include the path `file='some/where/else/sys1.xlsx'`\n",
    "# sys1.save_report(file='sys1.xlsx')"
   ]
  },
  {
   "cell_type": "markdown",
   "metadata": {},
   "source": [
    "## 2. Developing your own `TEA` subclass <a class=\"anchor\" id=\"s2\"></a>"
   ]
  },
  {
   "cell_type": "markdown",
   "metadata": {},
   "source": [
    "But you may need to consider additional cost items when doing TEA, to do so, you can make your own subclasses of `biosteam.TEA` or `qsdsan.TEA` (`qsdsan.TEA` is a subclass of `biosteam.TEA` with some more assumptions, so you should decide which class to base on according to your needs).\n",
    "\n",
    "For making subclasses of `TEA`, you can check out this [tutorial](https://biosteam.readthedocs.io/en/latest/tutorial/Techno-economic_analysis.html) in BioSTEAM's documentation, but since you have learned how to make a subclass (see the advanced [tutorial](https://github.com/QSD-Group/QSDsan/blob/main/docs/source/tutorials/5_SanUnit_advanced.ipynb) on SanUnit if you are not sure), let's go through a simple example to create a subclass of `TEA`."
   ]
  },
  {
   "cell_type": "markdown",
   "metadata": {},
   "source": [
    "To make a usable (i.e., not abstract) new subclass of `TEA`, you need to at least have three methods:\n",
    "\n",
    "- `_DPI` for calculating direct permanent/property investment using the attribute `installed_equipment_cost` (i.e., the total cost of all equipment).\n",
    "- `_TDC` for calculating total direct/depreciable cost using value calculated by `_DPI`.\n",
    "- `_FCI` for calculating fixed capital investment using value calculated by `_TDC`.\n",
    "- `_FOC` for calculating fixed operating cost using value calculated by `_FCI`."
   ]
  },
  {
   "cell_type": "code",
   "execution_count": 8,
   "metadata": {},
   "outputs": [],
   "source": [
    "# So the following code will trigger an error so it does have any of the needed methods\n",
    "\n",
    "# class BadTEA(bst.TEA):\n",
    "#    pass"
   ]
  },
  {
   "cell_type": "markdown",
   "metadata": {},
   "source": [
    "Then let's assume that:\n",
    "\n",
    "1. You need to buy some additional liners so that leachate from the pit latrines won't be directly discharged to the environment, and you want to calculate that as 15% of the total installed equipment cost.\n",
    "\n",
    "    - Since excretion doesn't have a capital cost, the total installed equipment cost of the system equals that of the pit latrines).\n",
    "    \n",
    "2. You want to include a 10% contingency of the direct cost. \n",
    "3. You have to pay a 5% property tax on the pit latrine.\n",
    "4. You need to pay $100 USD/yr in labor to clean the pit latrine."
   ]
  },
  {
   "cell_type": "code",
   "execution_count": 9,
   "metadata": {},
   "outputs": [],
   "source": [
    "# So we can write the new class like\n",
    "\n",
    "from random import random\n",
    "class NewTEA(bst.TEA):\n",
    "    def __init__(self, system, IRR, # this is the discount rate\n",
    "                 duration, # a tuple of (start, end) year of the system\n",
    "                 depreciation, # depreciation schedule\n",
    "                 income_tax, # note that (understandably) this only applies to `net_earnings`\n",
    "                 operating_days, # how many days the system is operated per year\n",
    "                 # When provided, lang_factor is used to calculate FCI based on\n",
    "                 # the purchase cost (rather than summing update the installed cost\n",
    "                 # of all equipment, which is calculated from the bare module factors)\n",
    "                 lang_factor,\n",
    "                 # New parameters\n",
    "                 liner_frac=0.15, contingency=0.1, property_tax=0.05,\n",
    "                 annual_labor=100):\n",
    "        # `super()` is `bst.TEA`\n",
    "        super().__init__(system, IRR, duration, depreciation, income_tax,\n",
    "                         operating_days, lang_factor,\n",
    "                         # Assume construction can be done within 1 year\n",
    "                         construction_schedule=(1,),\n",
    "                         # Assume no startup period\n",
    "                         startup_months=0, startup_FOCfrac=0,\n",
    "                         startup_VOCfrac=0, startup_salesfrac=0,\n",
    "                         # Assume no financing\n",
    "                         finance_interest=0, finance_years=0, finance_fraction=0,\n",
    "                         # Assume no working capital\n",
    "                         WC_over_FCI=0)\n",
    "        self.liner_frac = liner_frac\n",
    "        self.contingency = contingency\n",
    "        self.property_tax = property_tax\n",
    "        self.annual_labor = annual_labor\n",
    "\n",
    "    # Adding the liner cost\n",
    "    def _DPI(self, installed_equipment_cost):\n",
    "        return installed_equipment_cost*(1+self.liner_frac)\n",
    "    \n",
    "    # Adding the contingency\n",
    "    def _TDC(self, DPI):\n",
    "        return DPI*(1+self.contingency)\n",
    "    \n",
    "    # Directly return TDC since there is no additional cost\n",
    "    def _FCI(self, TDC):\n",
    "        return TDC\n",
    "    \n",
    "    # The labor cost and property tax is your fixed operating cost,\n",
    "    # note that even in the case where FCI is needed,\n",
    "    # you still need to have FCI as a the method argument\n",
    "    # otherwise BioSTEAM will raise an error because\n",
    "    # when it calls _FOC, it always passes FCI as an argument\n",
    "    def _FOC(self, FCI):\n",
    "        return self.annual_labor+self.property_tax*FCI\n",
    "    \n",
    "    # Of course, you can also change other methods,\n",
    "    # for example, let's assume that we want to add a \n",
    "    # random cost in the variable operating cost each year\n",
    "    @property\n",
    "    def VOC(self):\n",
    "        # The original is just `return self.material_cost+self.utility_cost`\n",
    "        original_voc = self.material_cost+self.utility_cost\n",
    "        print(f'Original VOC is {original_voc}.')\n",
    "        random_voc = 100 * random()\n",
    "        print(f'Random VOC is {random_voc}.')\n",
    "        return original_voc + random_voc"
   ]
  },
  {
   "cell_type": "markdown",
   "metadata": {},
   "source": [
    "Now we are good to try it out!"
   ]
  },
  {
   "cell_type": "code",
   "execution_count": 10,
   "metadata": {},
   "outputs": [],
   "source": [
    "tea2 = NewTEA(sys1, IRR=0.05, duration=(2021, 2031), depreciation='MACRS7',\n",
    "              income_tax=0.05, operating_days=365, lang_factor=None, \n",
    "              # we do not need to specify again since we've set the default values in the class\n",
    "              # liner_frac=0.15, contingency=0.1, property_tax=0.05, annual_labor=100\n",
    "             )"
   ]
  },
  {
   "cell_type": "code",
   "execution_count": 11,
   "metadata": {},
   "outputs": [
    {
     "name": "stdout",
     "output_type": "stream",
     "text": [
      "Original VOC is 365.0000002919999.\n",
      "Random VOC is 87.31253134353302.\n",
      "NewTEA: sys1\n",
      " NPV: -6,418 USD at 5.0% IRR\n"
     ]
    }
   ],
   "source": [
    "tea2"
   ]
  },
  {
   "cell_type": "code",
   "execution_count": 12,
   "metadata": {},
   "outputs": [
    {
     "name": "stdout",
     "output_type": "stream",
     "text": [
      "Original VOC is 365.0000002919999.\n",
      "Random VOC is 32.651031716658096.\n"
     ]
    },
    {
     "data": {
      "text/plain": [
       "397.65103200865804"
      ]
     },
     "execution_count": 12,
     "metadata": {},
     "output_type": "execute_result"
    }
   ],
   "source": [
    "# Surely it's a bad idea to use a random cost\n",
    "# since it changes every time you try to retrieve the value\n",
    "tea2.VOC"
   ]
  },
  {
   "cell_type": "markdown",
   "metadata": {},
   "source": [
    "[Back to top](#top)"
   ]
  }
 ],
 "metadata": {
  "kernelspec": {
   "display_name": "Python 3 (ipykernel)",
   "language": "python",
   "name": "python3"
  },
  "language_info": {
   "codemirror_mode": {
    "name": "ipython",
    "version": 3
   },
   "file_extension": ".py",
   "mimetype": "text/x-python",
   "name": "python",
   "nbconvert_exporter": "python",
   "pygments_lexer": "ipython3",
   "version": "3.9.13"
  },
  "varInspector": {
   "cols": {
    "lenName": 16,
    "lenType": 16,
    "lenVar": 40
   },
   "kernels_config": {
    "python": {
     "delete_cmd_postfix": "",
     "delete_cmd_prefix": "del ",
     "library": "var_list.py",
     "varRefreshCmd": "print(var_dic_list())"
    },
    "r": {
     "delete_cmd_postfix": ") ",
     "delete_cmd_prefix": "rm(",
     "library": "var_list.r",
     "varRefreshCmd": "cat(var_dic_list()) "
    }
   },
   "types_to_exclude": [
    "module",
    "function",
    "builtin_function_or_method",
    "instance",
    "_Feature"
   ],
   "window_display": false
  }
 },
 "nbformat": 4,
 "nbformat_minor": 4
}
